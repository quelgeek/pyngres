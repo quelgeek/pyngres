{
 "cells": [
  {
   "cell_type": "markdown",
   "id": "cebd3f9c-d2e9-4b33-9b09-87d8f05b9fe7",
   "metadata": {},
   "source": [
    "# Hello Pyngres World\n",
    "\n",
    "This is a minimal demonstration of the use of Pyngres. I connect to a database and select a table name at random from the iitables catalogue. When I am finished I tear everything down in an orderly fashion.\n",
    "\n",
    "In addition to the **pyngres** module I will use the **ctypes** module in this demo. Everything in Python is an object so I use ctypes to marshal binary Ingres data to/from Python. Don't focus too much on ctypes; you probably won't use it in a real application."
   ]
  },
  {
   "cell_type": "code",
   "execution_count": null,
   "id": "692a3d06-033e-4e06-b851-088f4c7c0ce6",
   "metadata": {},
   "outputs": [],
   "source": [
    "import pyngres as py\n",
    "import ctypes"
   ]
  },
  {
   "cell_type": "markdown",
   "id": "ed4ca231-80a8-48d6-9220-48d37bb470f9",
   "metadata": {},
   "source": [
    "Before I can use the OpenAPI I have to initialize it. \n",
    "\n",
    "OpenAPI functions take a single argument which is a control block (structure) appropriate to the function being called. The initialization function expects an instance of the IIAPI_INITPARM structure, which is allocated by the pyngres **IIAPI_INITPARM()** function. Here I create an instance I name **inp**."
   ]
  },
  {
   "cell_type": "code",
   "execution_count": null,
   "id": "022f6d3f-e1d2-4285-b24e-01c37c323bb7",
   "metadata": {},
   "outputs": [],
   "source": [
    "inp = py.IIAPI_INITPARM()"
   ]
  },
  {
   "cell_type": "markdown",
   "id": "388f1e9f-071d-4421-9347-8f0bbd6e7ee2",
   "metadata": {},
   "source": [
    "Once I have allocated an OpenAPI control block I assign values to some of its members to control the function when I call it. Here I set **in_timeout** to -1 (meaning, \"take as long as you like\".) More importantly in this case, I also specify the version of the OpenAPI I want to use. Capabilities have been added over the years and if I depend on certain newer capabilities I can indicate what I need by setting **in_version**. Here I am setting it to **IIAPI_VERSION**, which is the latest version known to the current release of pyngres I have installed."
   ]
  },
  {
   "cell_type": "code",
   "execution_count": null,
   "id": "306793b1-8051-4ff8-812d-54d2ca2db507",
   "metadata": {},
   "outputs": [],
   "source": [
    "inp.in_timeout = -1\n",
    "inp.in_version = py.IIAPI_VERSION"
   ]
  },
  {
   "cell_type": "markdown",
   "id": "367601df-e715-4544-acd0-99163cb1973b",
   "metadata": {},
   "source": [
    "I can now call **IIapi_initialize()**, passing its control block."
   ]
  },
  {
   "cell_type": "code",
   "execution_count": null,
   "id": "83d81b4a-0055-419a-9da2-9775b1db7782",
   "metadata": {},
   "outputs": [],
   "source": [
    "py.IIapi_initialize(inp)"
   ]
  },
  {
   "cell_type": "markdown",
   "id": "22c9eb7c-5833-48ac-b849-079ca631437b",
   "metadata": {},
   "source": [
    "When a function returns, the control block is used to return information from the OpenAPI. In this case I am interested in the status of the call (which I don't check in this demonstration, but obviously you would). Assuming the call was successful the function returns **in_envHandle** which is a handle for the initialized environment. I need to supply that handle to other functions I will call, so I make a note of it."
   ]
  },
  {
   "cell_type": "code",
   "execution_count": null,
   "id": "8041b884-3af0-43be-9a3c-9eba4af13b8a",
   "metadata": {},
   "outputs": [],
   "source": [
    "status = inp.in_status\n",
    "envHandle = inp.in_envHandle"
   ]
  },
  {
   "cell_type": "markdown",
   "id": "9ded3207-359d-40ff-8356-4ae25c33f205",
   "metadata": {},
   "source": [
    "Before I can execute any queries I need to connect to Ingres, identifying the database I want to query. There is always a database called \"iidbdb\" so that is a convenient target database for this demonstration. Here I create a variable called **target**, initialized with the database name. But because the OpenAPI doesn't understand Python types I need to convert the Python str object 'iidbdb' into an array of bytes by calling the encode() method on it. We will see this technique several times in this short demonstration."
   ]
  },
  {
   "cell_type": "code",
   "execution_count": null,
   "id": "9b9cdcdf-5f9b-4e40-8881-34685e5f2afc",
   "metadata": {
    "tags": []
   },
   "outputs": [],
   "source": [
    "target = 'iidbdb'.encode()"
   ]
  },
  {
   "cell_type": "markdown",
   "id": "e3a32aaa-b58a-4a13-8dc0-8b9007ddfc23",
   "metadata": {},
   "source": [
    "I create an IIAPI_CONNPARM control block and initialize it with the target name. I also pass the envHandle and set the connection type to IIAPI_CT_SQL (other connection types are available). I am willing to wait as long as it takes to get the connection so I set the timeout to -1."
   ]
  },
  {
   "cell_type": "code",
   "execution_count": null,
   "id": "1268336a-33f3-4ec6-9cfa-0f66e46a2930",
   "metadata": {},
   "outputs": [],
   "source": [
    "cop = py.IIAPI_CONNPARM()\n",
    "cop.co_target = target\n",
    "cop.co_connHandle = envHandle\n",
    "cop.co_type = py.IIAPI_CT_SQL\n",
    "cop.co_timeout = -1"
   ]
  },
  {
   "cell_type": "markdown",
   "id": "8b096989-72d7-46a6-8a96-ee85e6109abd",
   "metadata": {},
   "source": [
    "With the connection parameters set up I execute **IIapi_connect()** to start a dialogue with the Ingres DBMS."
   ]
  },
  {
   "cell_type": "code",
   "execution_count": null,
   "id": "e94b7c5b-f781-481e-b193-c3b057b48e2d",
   "metadata": {},
   "outputs": [],
   "source": [
    "py.IIapi_connect(cop)"
   ]
  },
  {
   "cell_type": "markdown",
   "id": "7f3692bc-958b-4d52-97e2-26f6b7f420e0",
   "metadata": {},
   "source": [
    "Before I go on, we need to understand something very important about the OpenAPI. There are two kinds of functions: those that interact with the OpenAPI itself, and functions which interact with the Ingres DBMS. IIapi_initialize() is an example of the first kind. We just call those and they return in the usual way.\n",
    "\n",
    "Most of the OpenAPI functions work differently. Because they are interacting with the DBMS—potentially over a channel with long latency—they are *asynchronous*. That means we call them but they return before the requested action is completed. While our requested OpenAPI action is in flight we are free to execute other code. **IIapi_connect()** is a typical OpenAPI function. It returns almost instantly but the connection request won't yet be completed.\n",
    "\n",
    "Eventually we will need to check if a requested operation is finished. Usually we do that by running a busy-wait loop. (Callbacks are also possible.)\n",
    "\n",
    "To run a wait loop I need an **IIAPI_WAITPARM** control block for it."
   ]
  },
  {
   "cell_type": "code",
   "execution_count": null,
   "id": "765fff98-49e3-45c1-9a89-19d2781dfcb7",
   "metadata": {
    "tags": []
   },
   "outputs": [],
   "source": [
    "wtp = py.IIAPI_WAITPARM()\n",
    "wtp.wt_timeout = -1"
   ]
  },
  {
   "cell_type": "markdown",
   "id": "3e569448-36a3-4b67-bded-8bcab6688fe1",
   "metadata": {},
   "source": [
    "I now sit in a busy-wait loop until the **gp_completed** flag is set in the IIAPI_CONNPARM control block (**cop**)."
   ]
  },
  {
   "cell_type": "code",
   "execution_count": null,
   "id": "8bb7f0d8-c828-4f31-ad8e-ae770243115e",
   "metadata": {},
   "outputs": [],
   "source": [
    "while not cop.co_genParm.gp_completed:\n",
    "    py.IIapi_wait(wtp)"
   ]
  },
  {
   "cell_type": "markdown",
   "id": "a5212bae-e501-46a3-bbe6-d0680c5ca1a2",
   "metadata": {},
   "source": [
    "Once the gp_completed flag is set I make a note of the connection handle because I will need it later. Incidentally, if I wanted I could now also check the error status. It would have been pointless trying to check it before the gp_completed flag is set. This timing issue sometimes perplexes the novice OpenAPI programmer."
   ]
  },
  {
   "cell_type": "code",
   "execution_count": null,
   "id": "ebcf4c31-e8b7-4373-adcc-ad8d57e01bed",
   "metadata": {},
   "outputs": [],
   "source": [
    "connHandle = cop.co_connHandle"
   ]
  },
  {
   "cell_type": "markdown",
   "id": "8724b22d-6077-4921-9144-75d3d026bea4",
   "metadata": {},
   "source": [
    "Now I am ready to execute a query. Queries are written in SQL as you would expect, but Python strings mean nothing to Ingres so I need to encode the query to send it."
   ]
  },
  {
   "cell_type": "code",
   "execution_count": null,
   "id": "7e5a31aa-eabb-41d7-aa8e-8d52d73e8e9b",
   "metadata": {},
   "outputs": [],
   "source": [
    "# select a randomly chosen table name\n",
    "queryText = 'SELECT FIRST 1 table_name FROM iitables ORDER BY random()'.encode()"
   ]
  },
  {
   "cell_type": "markdown",
   "id": "6a916c83-722b-4416-b82d-ea7fdf2804ff",
   "metadata": {},
   "source": [
    "This time I need an IIAPI_QUERYPARM control block. I initialize it with the connection handle so that Ingres knows which session the query should be sent to. I set the queryText attribute with my SQL statement. And I indicate this is a simple query by setting qy_queryType to IIAPI_QT_QUERY. (In the next demonstration I will show another type of query.)"
   ]
  },
  {
   "cell_type": "code",
   "execution_count": null,
   "id": "8e4abb23-8e81-4701-b1bd-db3ee82124b8",
   "metadata": {},
   "outputs": [],
   "source": [
    "qyp = py.IIAPI_QUERYPARM()\n",
    "qyp.qy_connHandle = connHandle\n",
    "qyp.qy_queryType = py.IIAPI_QT_QUERY\n",
    "qyp.qy_queryText = queryText"
   ]
  },
  {
   "cell_type": "markdown",
   "id": "31f54767-614b-431c-94a0-5bd36f4b4231",
   "metadata": {},
   "source": [
    "I can now submit my query by calling **IIapi_query**, which the OpenAPI will more or less instantly return, even though nothing may have happened yet. I need to sit in busy-wait (or do something else with my time, and then wait)."
   ]
  },
  {
   "cell_type": "code",
   "execution_count": null,
   "id": "89fcd987-8c75-4eb4-a928-a63d51d6c877",
   "metadata": {},
   "outputs": [],
   "source": [
    "py.IIapi_query(qyp)\n",
    "\n",
    "while not qyp.qy_genParm.gp_completed:\n",
    "    py.IIapi_wait(wtp)"
   ]
  },
  {
   "cell_type": "markdown",
   "id": "f169fd78-1ab6-4f5d-b6c4-4ea4b27fbac8",
   "metadata": {},
   "source": [
    "This call initiated a strict protocol which has to be followed to get my results. Once the call is completed there is information available in the control block which I have to make note of to use later. Specifically the query could have implicitly initiated a transaction and I will need its handle. I will also need the statement handle to complete the protocol."
   ]
  },
  {
   "cell_type": "code",
   "execution_count": null,
   "id": "43bbe4fb-ebc9-44fb-b07a-5fa244a567fc",
   "metadata": {},
   "outputs": [],
   "source": [
    "tranHandle = qyp.qy_tranHandle\n",
    "stmtHandle = qyp.qy_stmtHandle"
   ]
  },
  {
   "cell_type": "markdown",
   "id": "bb361cbb-bde9-448a-9eff-93f847e443f7",
   "metadata": {},
   "source": [
    "To create a minimal example my query wasn't parameterized. If it were I would send the parameters at this point. In this example I can immediately fetch my results from the server. The first step is to get the meta-data for the result set using the **IIapi_getDescriptor()** function, which takes an **IIAPI_GETDESCPARM** control block. I set the gd_stmtHandle, call the function, then spin waiting for it to complete."
   ]
  },
  {
   "cell_type": "code",
   "execution_count": null,
   "id": "bde4a09f-4d65-4909-becd-cb80d1cda1c6",
   "metadata": {},
   "outputs": [],
   "source": [
    "gdp = py.IIAPI_GETDESCRPARM()\n",
    "gdp.gd_stmtHandle = stmtHandle\n",
    "py.IIapi_getDescriptor(gdp)\n",
    "while not gdp.gd_genParm.gp_completed:\n",
    "    py.IIapi_wait(wtp)"
   ]
  },
  {
   "cell_type": "markdown",
   "id": "b1ac78b2-a239-4b38-b577-015a491b4da4",
   "metadata": {},
   "source": [
    "On completion the OpenAPI will return an array in the gd_descriptor member, describing each column of the result set with an **IIAPI_DESCRIPTOR** instance. I need to use those descriptors to allocate buffers for the returned columns. Obviously in this example I already know my query returns only one column but in general I should use the number of columns indicated by the gd_descriptorCount returned in the control block. \n",
    "\n",
    "To know how much memory to allocate for the buffer for a table name I look at the first element of the descriptor array and note the **ds_length**.\n",
    "\n",
    "To fetch the data I will call **IIapi_getColumns()**, which takes an **IIAPI_GETCOLPARM**. I set the gc_rowCount to 1. That is not the expected number of rows but rather the number of rows the server is allowed to send me with one call to IIapi_getColumns(). I can ask for multiple rows if I want.\n",
    "\n",
    "I use **ctypes.create_string_buffer()** to allocate storage for the table name, and I get its address using **ctypes.addressof()**. \n",
    "\n",
    "I then allocate the columnData array of **IIAPI_DATAVALUE** to pass to the OpenAPI. The syntax looks mysterious to a ctypes novice but don't dwell on it unless you plan to use ctypes. I set the dv_value of the first element of the array to the address of the table name storage. The array is passed using the gc_columnData member. I also have to set the gc_stmtHandle. \n",
    "\n",
    "With all that done I call IIapi_getColumns() and wait to hear back...eventually. "
   ]
  },
  {
   "cell_type": "code",
   "execution_count": null,
   "id": "13b68a51-2995-4681-ab60-8f90b5cadfec",
   "metadata": {},
   "outputs": [],
   "source": [
    "columnCount = gdp.gd_descriptorCount\n",
    "length = gdp.gd_descriptor[0].ds_length\n",
    "\n",
    "gcp = py.IIAPI_GETCOLPARM()\n",
    "gcp.gc_rowCount = 1\n",
    "gcp.gc_columnCount = columnCount\n",
    "result_buffer = ctypes.create_string_buffer(length)\n",
    "result_buffer_address = ctypes.addressof(result_buffer)\n",
    "columnData = (py.IIAPI_DATAVALUE * (gcp.gc_rowCount * gcp.gc_columnCount))()\n",
    "columnData[0].dv_value = result_buffer_address\n",
    "gcp.gc_columnData = columnData\n",
    "gcp.gc_stmtHandle = stmtHandle\n",
    "\n",
    "py.IIapi_getColumns(gcp)\n",
    "while not gcp.gc_genParm.gp_completed:\n",
    "    py.Iapi_wait(wtp)"
   ]
  },
  {
   "cell_type": "markdown",
   "id": "310c2f33-235e-4754-9907-b1044bccda65",
   "metadata": {},
   "source": [
    "The chosen table name has now been sent from Ingres server to this application, but because Ingres sends binary data that Python doesn't understand I turn it into a Python string (str) using **ctypes.string_at()** and **decode()** so I can print it."
   ]
  },
  {
   "cell_type": "code",
   "execution_count": null,
   "id": "4dc7c9e2-a522-4e90-a7c6-75755d508855",
   "metadata": {},
   "outputs": [],
   "source": [
    "table_name = ctypes.string_at(result_buffer_address,length).decode().strip()\n",
    "print(f'OUTPUT--> the randomly chosen table name is: {table_name}')"
   ]
  },
  {
   "cell_type": "markdown",
   "id": "6e951a65-d565-4ff5-bef6-ada48dd45e26",
   "metadata": {},
   "source": [
    "I have my output so now I end the session. That involves ending the query statement; rolling back the transaction it implicitly started; disconnecting the session, and finally releasing the OpenAPI resources. You can see what aspect each OpenAPI call is acting on by looking at which handle it takes. "
   ]
  },
  {
   "cell_type": "code",
   "execution_count": null,
   "id": "f5a7fab2-66f7-4844-9164-e2b7280b3a7e",
   "metadata": {},
   "outputs": [],
   "source": [
    "cnp = py.IIAPI_CANCELPARM()\n",
    "cnp.cn_stmtHandle = stmtHandle\n",
    "py.IIapi_cancel(cnp)\n",
    "while not cnp.cn_genParm.gp_completed:\n",
    "    py.IIapi_wait(wtp)"
   ]
  },
  {
   "cell_type": "code",
   "execution_count": null,
   "id": "630a59ef-905c-426c-b125-0ca2ef370800",
   "metadata": {},
   "outputs": [],
   "source": [
    "clp = py.IIAPI_CLOSEPARM()\n",
    "clp.cl_stmtHandle = stmtHandle\n",
    "py.IIapi_close(clp)\n",
    "while not clp.cl_genParm.gp_completed:\n",
    "    py.IIapi_wait(wtp)"
   ]
  },
  {
   "cell_type": "code",
   "execution_count": null,
   "id": "7dfd4e35-bdef-4d31-9926-c5330b169b44",
   "metadata": {},
   "outputs": [],
   "source": [
    "rbp = py.IIAPI_ROLLBACKPARM()\n",
    "rbp.rb_tranHandle = tranHandle\n",
    "py.IIapi_rollback(rbp)\n",
    "while not rbp.rb_genParm.gp_completed:\n",
    "    py.IIapi_wait(wtp)\n",
    "tranHandle = None"
   ]
  },
  {
   "cell_type": "code",
   "execution_count": null,
   "id": "e3f41da9-cf44-47dd-9e9d-f17203ae5aee",
   "metadata": {},
   "outputs": [],
   "source": [
    "dcp = py.IIAPI_DISCONNPARM()\n",
    "dcp.dc_connHandle = connHandle\n",
    "py.IIapi_disconnect(dcp)\n",
    "while not dcp.dc_genParm.gp_completed:\n",
    "    py.IIapi_wait(wtp)\n",
    "connHandle = None"
   ]
  },
  {
   "cell_type": "code",
   "execution_count": null,
   "id": "7396f263-400f-4eaa-9835-f06992c28b65",
   "metadata": {},
   "outputs": [],
   "source": [
    "rep = py.IIAPI_RELENVPARM()\n",
    "rep.re_envHandle = envHandle\n",
    "py.IIapi_releaseEnv(rep)\n",
    "\n",
    "tmp = py.IIAPI_TERMPARM()\n",
    "py.IIapi_terminate(tmp)"
   ]
  },
  {
   "cell_type": "markdown",
   "id": "1fa1c122-a0a9-4385-a5bf-1fb1cf0f2a89",
   "metadata": {},
   "source": [
    "## The End \n",
    "(of the demonstration, not the world)"
   ]
  }
 ],
 "metadata": {
  "kernelspec": {
   "display_name": "Python 3 (ipykernel)",
   "language": "python",
   "name": "python3"
  },
  "language_info": {
   "codemirror_mode": {
    "name": "ipython",
    "version": 3
   },
   "file_extension": ".py",
   "mimetype": "text/x-python",
   "name": "python",
   "nbconvert_exporter": "python",
   "pygments_lexer": "ipython3",
   "version": "3.9.21"
  }
 },
 "nbformat": 4,
 "nbformat_minor": 5
}
